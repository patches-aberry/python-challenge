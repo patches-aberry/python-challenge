{
 "cells": [
  {
   "cell_type": "code",
   "execution_count": 85,
   "id": "e923491c",
   "metadata": {},
   "outputs": [],
   "source": [
    "import pandas as pd"
   ]
  },
  {
   "cell_type": "code",
   "execution_count": 87,
   "id": "2524406e",
   "metadata": {},
   "outputs": [],
   "source": [
    "#define file path\n",
    "path = \"Resources/election_data.csv\"\n",
    "#read CSV data to data frame\n",
    "ed_df = pd.read_csv(path)"
   ]
  },
  {
   "cell_type": "code",
   "execution_count": 88,
   "id": "23241d6b",
   "metadata": {},
   "outputs": [],
   "source": [
    "#count number of votes cast\n",
    "total_votes = ed_df[\"Ballot ID\"].count()"
   ]
  },
  {
   "cell_type": "code",
   "execution_count": 89,
   "id": "667299d4",
   "metadata": {},
   "outputs": [],
   "source": [
    "#create list of candidates\n",
    "can_list = ed_df[\"Candidate\"].unique()\n",
    "#create empty arrays to hold totals and percent values. \n",
    "can_tot = [0] * len(can_list)\n",
    "can_per = [0] * len(can_list)"
   ]
  },
  {
   "cell_type": "code",
   "execution_count": 90,
   "id": "201940a6",
   "metadata": {},
   "outputs": [],
   "source": [
    "#Loop through list of candidates, add to arrays of values depending on how they performed. \n",
    "for i in range(len(can_list)):\n",
    "    count_list = ed_df.loc[ed_df[\"Candidate\"]==can_list[i],[\"Ballot ID\"]]\n",
    "    #Add to list of candidates totals\n",
    "    can_tot[i] = count_list[\"Ballot ID\"].count()\n",
    "    #Add to list of candidates percentages\n",
    "    can_per[i] = can_tot[i] / total_votes\n",
    "    #format percentage\n",
    "    can_per[i] = can_per[i]*100\n",
    "    can_per[i] = \"%.3f\" % can_per[i]"
   ]
  },
  {
   "cell_type": "code",
   "execution_count": 81,
   "id": "88ab081b",
   "metadata": {},
   "outputs": [],
   "source": [
    "#Grab winner name\n",
    "winner_name = can_list[can_tot.index(max(can_tot))]"
   ]
  },
  {
   "cell_type": "code",
   "execution_count": 82,
   "id": "70523b34",
   "metadata": {},
   "outputs": [
    {
     "name": "stdout",
     "output_type": "stream",
     "text": [
      "Election Results\n",
      "-------------------------\n",
      "Total Votes: 369711\n",
      "-------------------------\n",
      "Charles Casper Stockham: 23.049% (85213)\n",
      "Diana DeGette: 73.812% (272892)\n",
      "Raymon Anthony Doane: 3.139% (11606)\n",
      "-------------------------\n",
      "Winner: Diana DeGette\n",
      "-------------------------\n"
     ]
    }
   ],
   "source": [
    "#create output in terminal\n",
    "print(\"Election Results\")\n",
    "print(\"-------------------------\")\n",
    "print(\"Total Votes: \" + str(total_votes))\n",
    "print(\"-------------------------\")\n",
    "for j in range(len(can_list)):\n",
    "    print (can_list[j] + \": \" + str(can_per[j]) + \"% (\" + str(can_tot[j]) + \")\")\n",
    "print(\"-------------------------\")\n",
    "print(\"Winner: \" + winner_name)\n",
    "print(\"-------------------------\")"
   ]
  },
  {
   "cell_type": "code",
   "execution_count": 83,
   "id": "f812c441",
   "metadata": {},
   "outputs": [],
   "source": [
    "#Write file out\n",
    "with open(\"analysis/Output.txt\", \"w\") as text_file:\n",
    "    text_file.write(\"Election Results\" + \"\\n\")\n",
    "    text_file.write(\"-------------------------\"+ \"\\n\")\n",
    "    text_file.write(\"Total Votes: \" + str(total_votes)+ \"\\n\")\n",
    "    text_file.write(\"-------------------------\"+ \"\\n\")\n",
    "    for j in range(len(can_list)):\n",
    "        text_file.write(can_list[j] + \": \" + str(can_per[j]) + \"% (\" + str(can_tot[j]) + \")\"+ \"\\n\")\n",
    "    text_file.write(\"-------------------------\"+ \"\\n\")\n",
    "    text_file.write(\"Winner: \" + winner_name + \"\\n\")\n",
    "    text_file.write(\"-------------------------\"+ \"\\n\")"
   ]
  }
 ],
 "metadata": {
  "kernelspec": {
   "display_name": "Python 3 (ipykernel)",
   "language": "python",
   "name": "python3"
  },
  "language_info": {
   "codemirror_mode": {
    "name": "ipython",
    "version": 3
   },
   "file_extension": ".py",
   "mimetype": "text/x-python",
   "name": "python",
   "nbconvert_exporter": "python",
   "pygments_lexer": "ipython3",
   "version": "3.9.13"
  }
 },
 "nbformat": 4,
 "nbformat_minor": 5
}
