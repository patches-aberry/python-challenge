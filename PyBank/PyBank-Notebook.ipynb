{
 "cells": [
  {
   "cell_type": "code",
   "execution_count": 1,
   "id": "4e8d7388",
   "metadata": {},
   "outputs": [],
   "source": [
    "import pandas as pd"
   ]
  },
  {
   "cell_type": "code",
   "execution_count": 133,
   "id": "8b9cf18d",
   "metadata": {},
   "outputs": [],
   "source": [
    "#define file path\n",
    "path = \"Resources/budget_data.csv\"\n",
    "#read CSV data to data frame\n",
    "bd_df = pd.read_csv(path)"
   ]
  },
  {
   "cell_type": "code",
   "execution_count": 134,
   "id": "33f389b6",
   "metadata": {},
   "outputs": [],
   "source": [
    "# * The total number of months included in the dataset\n",
    "tot_months = bd_df[\"Date\"].count()"
   ]
  },
  {
   "cell_type": "code",
   "execution_count": 50,
   "id": "09e09f2f",
   "metadata": {},
   "outputs": [],
   "source": [
    "#Create a copy of the main data frame\n",
    "change_df = bd_df.copy()\n",
    "\n",
    "#insert \"Change\" column\n",
    "change_df[\"Change\"]=0"
   ]
  },
  {
   "cell_type": "code",
   "execution_count": 135,
   "id": "d6c7ac2b",
   "metadata": {},
   "outputs": [
    {
     "name": "stderr",
     "output_type": "stream",
     "text": [
      "/var/folders/84/whf5plpj76n0gfsn98hvs1mr0000gn/T/ipykernel_675/1903194131.py:12: SettingWithCopyWarning: \n",
      "A value is trying to be set on a copy of a slice from a DataFrame\n",
      "\n",
      "See the caveats in the documentation: https://pandas.pydata.org/pandas-docs/stable/user_guide/indexing.html#returning-a-view-versus-a-copy\n",
      "  change_df[\"Change\"][i] = change_var\n"
     ]
    }
   ],
   "source": [
    "#initialize our change_var at 0.\n",
    "change_var = 0 \n",
    "\n",
    "#Loop through DataFrame \n",
    "for i in change_df.index:\n",
    "    #this if loop skips the top row calculation to avoid an exception. \n",
    "    if i > 0:\n",
    "        change_var = change_df[\"Profit/Losses\"][i] - change_df[\"Profit/Losses\"][i-1]\n",
    "    elif i == 0:\n",
    "        change_var = 0\n",
    "    #set the change column value to the change var caculated on the previous row\n",
    "    change_df[\"Change\"][i] = change_var\n"
   ]
  },
  {
   "cell_type": "code",
   "execution_count": 136,
   "id": "0c5a8ffe",
   "metadata": {},
   "outputs": [],
   "source": [
    "#* The net total amount of \"Profit/Losses\" over the entire period\n",
    "net_total = bd_df[\"Profit/Losses\"].sum()"
   ]
  },
  {
   "cell_type": "code",
   "execution_count": 137,
   "id": "e38abfae",
   "metadata": {},
   "outputs": [],
   "source": [
    "#* The changes in \"Profit/Losses\" over the entire period, and then the average of those change\n",
    "avg_change = change_df[\"Change\"].mean()\n",
    "avg_change = \"%.2f\" % avg_change"
   ]
  },
  {
   "cell_type": "code",
   "execution_count": 138,
   "id": "6fc6ef5c",
   "metadata": {},
   "outputs": [],
   "source": [
    "#* The greatest increase in profits (date and amount) over the entire period\n",
    "max_increase = change_df[\"Change\"].max()\n",
    "#find index value of date of max increase\n",
    "date_index_in = change_df.loc[change_df[\"Change\"] == max_increase].index"
   ]
  },
  {
   "cell_type": "code",
   "execution_count": 139,
   "id": "b64055ec",
   "metadata": {},
   "outputs": [],
   "source": [
    "#* The greatest decrease in profits (date and amount) over the entire period\n",
    "max_decrease = change_df[\"Change\"].min()\n",
    "#find index value of date of max decrease\n",
    "date_index_de = change_df.loc[change_df[\"Change\"] == max_decrease].index"
   ]
  },
  {
   "cell_type": "code",
   "execution_count": 124,
   "id": "3b3fcf3e",
   "metadata": {},
   "outputs": [
    {
     "name": "stdout",
     "output_type": "stream",
     "text": [
      "Financial Analysis\n",
      " ----------------------------\n",
      "Total Months: 86\n",
      "Total: 22564198\n",
      "Average Change: $-8214.47\n",
      "Greatest Increase in Profits: Aug-16 ($1862002)\n",
      "Greatest Decrease in Profits: Feb-14 ($-1825558)\n"
     ]
    }
   ],
   "source": [
    "#Your analysis should look similar to the following:\n",
    "\n",
    "#  ```text\n",
    "#  Financial Analysis\n",
    "#  ----------------------------\n",
    "#  Total Months: 86\n",
    "#  Total: $22564198\n",
    " # Average Change: $-8311.11\n",
    " # Greatest Increase in Profits: Aug-16 ($1862002)\n",
    "#  Greatest Decrease in Profits: Feb-14 ($-1825558)\n",
    "#  ```\n",
    "\n",
    "print( \"Financial Analysis\" )\n",
    "print(\" ----------------------------\" )\n",
    "print(\"Total Months: \" + str(tot_months) )\n",
    "print(\"Total: \" + str(net_total) )\n",
    "print(\"Average Change: $\" + avg_change)\n",
    "print(\"Greatest Increase in Profits: \" + change_df.iat[date_index_in[0], 0] + \" ($\" + str(max_increase) + \")\")\n",
    "print(\"Greatest Decrease in Profits: \" + change_df.iat[date_index_de[0], 0] + \" ($\" + str(max_decrease) + \")\")"
   ]
  },
  {
   "cell_type": "code",
   "execution_count": 132,
   "id": "6dfb942b",
   "metadata": {},
   "outputs": [],
   "source": [
    "#In addition, your final script should both print the analysis to the terminal and export a text file with the results.\n",
    "with open(\"analysis/Output.txt\", \"w\") as text_file:\n",
    "    text_file.write( \"Financial Analysis\\n\")\n",
    "    text_file.write(\" ----------------------------\\n\" )\n",
    "    text_file.write(\"Total Months: \" + str(tot_months)+'\\n' )\n",
    "    text_file.write(\"Total: \" + str(net_total) +\"\\n\")\n",
    "    text_file.write(\"Average Change: $\" + avg_change+\"\\n\")\n",
    "    text_file.write(\"Greatest Increase in Profits: \" + change_df.iat[date_index_in[0], 0] + \" ($\" + str(max_increase) + \")\\n\")\n",
    "    text_file.write(\"Greatest Decrease in Profits: \" + change_df.iat[date_index_de[0], 0] + \" ($\" + str(max_decrease) + \")\")"
   ]
  }
 ],
 "metadata": {
  "kernelspec": {
   "display_name": "Python 3 (ipykernel)",
   "language": "python",
   "name": "python3"
  },
  "language_info": {
   "codemirror_mode": {
    "name": "ipython",
    "version": 3
   },
   "file_extension": ".py",
   "mimetype": "text/x-python",
   "name": "python",
   "nbconvert_exporter": "python",
   "pygments_lexer": "ipython3",
   "version": "3.9.13"
  }
 },
 "nbformat": 4,
 "nbformat_minor": 5
}
