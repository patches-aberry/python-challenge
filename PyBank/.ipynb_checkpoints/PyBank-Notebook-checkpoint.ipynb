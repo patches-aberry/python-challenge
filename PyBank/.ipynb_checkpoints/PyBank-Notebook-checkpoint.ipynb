{
 "cells": [
  {
   "cell_type": "code",
   "execution_count": 1,
   "id": "de1c4f44",
   "metadata": {},
   "outputs": [],
   "source": [
    "import pandas as pd"
   ]
  },
  {
   "cell_type": "code",
   "execution_count": 13,
   "id": "e6d93780",
   "metadata": {},
   "outputs": [
    {
     "data": {
      "text/html": [
       "<div>\n",
       "<style scoped>\n",
       "    .dataframe tbody tr th:only-of-type {\n",
       "        vertical-align: middle;\n",
       "    }\n",
       "\n",
       "    .dataframe tbody tr th {\n",
       "        vertical-align: top;\n",
       "    }\n",
       "\n",
       "    .dataframe thead th {\n",
       "        text-align: right;\n",
       "    }\n",
       "</style>\n",
       "<table border=\"1\" class=\"dataframe\">\n",
       "  <thead>\n",
       "    <tr style=\"text-align: right;\">\n",
       "      <th></th>\n",
       "      <th>Date</th>\n",
       "      <th>Profit/Losses</th>\n",
       "    </tr>\n",
       "  </thead>\n",
       "  <tbody>\n",
       "    <tr>\n",
       "      <th>0</th>\n",
       "      <td>Jan-10</td>\n",
       "      <td>1088983</td>\n",
       "    </tr>\n",
       "    <tr>\n",
       "      <th>1</th>\n",
       "      <td>Feb-10</td>\n",
       "      <td>-354534</td>\n",
       "    </tr>\n",
       "    <tr>\n",
       "      <th>2</th>\n",
       "      <td>Mar-10</td>\n",
       "      <td>276622</td>\n",
       "    </tr>\n",
       "    <tr>\n",
       "      <th>3</th>\n",
       "      <td>Apr-10</td>\n",
       "      <td>-728133</td>\n",
       "    </tr>\n",
       "    <tr>\n",
       "      <th>4</th>\n",
       "      <td>May-10</td>\n",
       "      <td>852993</td>\n",
       "    </tr>\n",
       "    <tr>\n",
       "      <th>...</th>\n",
       "      <td>...</td>\n",
       "      <td>...</td>\n",
       "    </tr>\n",
       "    <tr>\n",
       "      <th>81</th>\n",
       "      <td>Oct-16</td>\n",
       "      <td>-729004</td>\n",
       "    </tr>\n",
       "    <tr>\n",
       "      <th>82</th>\n",
       "      <td>Nov-16</td>\n",
       "      <td>-112209</td>\n",
       "    </tr>\n",
       "    <tr>\n",
       "      <th>83</th>\n",
       "      <td>Dec-16</td>\n",
       "      <td>516313</td>\n",
       "    </tr>\n",
       "    <tr>\n",
       "      <th>84</th>\n",
       "      <td>Jan-17</td>\n",
       "      <td>607208</td>\n",
       "    </tr>\n",
       "    <tr>\n",
       "      <th>85</th>\n",
       "      <td>Feb-17</td>\n",
       "      <td>382539</td>\n",
       "    </tr>\n",
       "  </tbody>\n",
       "</table>\n",
       "<p>86 rows × 2 columns</p>\n",
       "</div>"
      ],
      "text/plain": [
       "      Date  Profit/Losses\n",
       "0   Jan-10        1088983\n",
       "1   Feb-10        -354534\n",
       "2   Mar-10         276622\n",
       "3   Apr-10        -728133\n",
       "4   May-10         852993\n",
       "..     ...            ...\n",
       "81  Oct-16        -729004\n",
       "82  Nov-16        -112209\n",
       "83  Dec-16         516313\n",
       "84  Jan-17         607208\n",
       "85  Feb-17         382539\n",
       "\n",
       "[86 rows x 2 columns]"
      ]
     },
     "execution_count": 13,
     "metadata": {},
     "output_type": "execute_result"
    }
   ],
   "source": [
    "#define file path\n",
    "path = \"Resources/budget_data.csv\"\n",
    "#read CSV data to data frame\n",
    "bd_df = pd.read_csv(path)\n",
    "bd_df"
   ]
  },
  {
   "cell_type": "code",
   "execution_count": 7,
   "id": "651ca88b",
   "metadata": {},
   "outputs": [
    {
     "data": {
      "text/plain": [
       "86"
      ]
     },
     "execution_count": 7,
     "metadata": {},
     "output_type": "execute_result"
    }
   ],
   "source": [
    "# * The total number of months included in the dataset\n",
    "tot_months = bd_df[\"Date\"].count()\n",
    "tot_months"
   ]
  },
  {
   "cell_type": "code",
   "execution_count": 50,
   "id": "ac701142",
   "metadata": {},
   "outputs": [],
   "source": [
    "#Create a copy of the main data frame\n",
    "change_df = bd_df.copy()\n",
    "\n",
    "#insert \"Change\" column\n",
    "change_df[\"Change\"]=0"
   ]
  },
  {
   "cell_type": "code",
   "execution_count": 63,
   "id": "eae6c287",
   "metadata": {},
   "outputs": [
    {
     "name": "stderr",
     "output_type": "stream",
     "text": [
      "/var/folders/84/whf5plpj76n0gfsn98hvs1mr0000gn/T/ipykernel_675/4127025550.py:12: SettingWithCopyWarning: \n",
      "A value is trying to be set on a copy of a slice from a DataFrame\n",
      "\n",
      "See the caveats in the documentation: https://pandas.pydata.org/pandas-docs/stable/user_guide/indexing.html#returning-a-view-versus-a-copy\n",
      "  change_df[\"Change\"][i] = change_var\n"
     ]
    },
    {
     "data": {
      "text/html": [
       "<div>\n",
       "<style scoped>\n",
       "    .dataframe tbody tr th:only-of-type {\n",
       "        vertical-align: middle;\n",
       "    }\n",
       "\n",
       "    .dataframe tbody tr th {\n",
       "        vertical-align: top;\n",
       "    }\n",
       "\n",
       "    .dataframe thead th {\n",
       "        text-align: right;\n",
       "    }\n",
       "</style>\n",
       "<table border=\"1\" class=\"dataframe\">\n",
       "  <thead>\n",
       "    <tr style=\"text-align: right;\">\n",
       "      <th></th>\n",
       "      <th>Date</th>\n",
       "      <th>Profit/Losses</th>\n",
       "      <th>Change</th>\n",
       "    </tr>\n",
       "  </thead>\n",
       "  <tbody>\n",
       "    <tr>\n",
       "      <th>0</th>\n",
       "      <td>Jan-10</td>\n",
       "      <td>1088983</td>\n",
       "      <td>0</td>\n",
       "    </tr>\n",
       "    <tr>\n",
       "      <th>1</th>\n",
       "      <td>Feb-10</td>\n",
       "      <td>-354534</td>\n",
       "      <td>-1443517</td>\n",
       "    </tr>\n",
       "    <tr>\n",
       "      <th>2</th>\n",
       "      <td>Mar-10</td>\n",
       "      <td>276622</td>\n",
       "      <td>631156</td>\n",
       "    </tr>\n",
       "    <tr>\n",
       "      <th>3</th>\n",
       "      <td>Apr-10</td>\n",
       "      <td>-728133</td>\n",
       "      <td>-1004755</td>\n",
       "    </tr>\n",
       "    <tr>\n",
       "      <th>4</th>\n",
       "      <td>May-10</td>\n",
       "      <td>852993</td>\n",
       "      <td>1581126</td>\n",
       "    </tr>\n",
       "    <tr>\n",
       "      <th>...</th>\n",
       "      <td>...</td>\n",
       "      <td>...</td>\n",
       "      <td>...</td>\n",
       "    </tr>\n",
       "    <tr>\n",
       "      <th>81</th>\n",
       "      <td>Oct-16</td>\n",
       "      <td>-729004</td>\n",
       "      <td>-1627245</td>\n",
       "    </tr>\n",
       "    <tr>\n",
       "      <th>82</th>\n",
       "      <td>Nov-16</td>\n",
       "      <td>-112209</td>\n",
       "      <td>616795</td>\n",
       "    </tr>\n",
       "    <tr>\n",
       "      <th>83</th>\n",
       "      <td>Dec-16</td>\n",
       "      <td>516313</td>\n",
       "      <td>628522</td>\n",
       "    </tr>\n",
       "    <tr>\n",
       "      <th>84</th>\n",
       "      <td>Jan-17</td>\n",
       "      <td>607208</td>\n",
       "      <td>90895</td>\n",
       "    </tr>\n",
       "    <tr>\n",
       "      <th>85</th>\n",
       "      <td>Feb-17</td>\n",
       "      <td>382539</td>\n",
       "      <td>-224669</td>\n",
       "    </tr>\n",
       "  </tbody>\n",
       "</table>\n",
       "<p>86 rows × 3 columns</p>\n",
       "</div>"
      ],
      "text/plain": [
       "      Date  Profit/Losses   Change\n",
       "0   Jan-10        1088983        0\n",
       "1   Feb-10        -354534 -1443517\n",
       "2   Mar-10         276622   631156\n",
       "3   Apr-10        -728133 -1004755\n",
       "4   May-10         852993  1581126\n",
       "..     ...            ...      ...\n",
       "81  Oct-16        -729004 -1627245\n",
       "82  Nov-16        -112209   616795\n",
       "83  Dec-16         516313   628522\n",
       "84  Jan-17         607208    90895\n",
       "85  Feb-17         382539  -224669\n",
       "\n",
       "[86 rows x 3 columns]"
      ]
     },
     "execution_count": 63,
     "metadata": {},
     "output_type": "execute_result"
    }
   ],
   "source": [
    "#initialize our change_var at 0.\n",
    "change_var = 0 \n",
    "\n",
    "#Loop through DataFrame \n",
    "for i in change_df.index:\n",
    "    #this if loop skips the top row calculation to avoid an exception. \n",
    "    if i > 0:\n",
    "        change_var = change_df[\"Profit/Losses\"][i] - change_df[\"Profit/Losses\"][i-1]\n",
    "    elif i == 0:\n",
    "        change_var = 0\n",
    "    #set the change column value to the change var caculated on the previous row\n",
    "    change_df[\"Change\"][i] = change_var\n",
    "change_df"
   ]
  },
  {
   "cell_type": "code",
   "execution_count": 64,
   "id": "d4a45b8e",
   "metadata": {},
   "outputs": [
    {
     "data": {
      "text/plain": [
       "-1825558"
      ]
     },
     "execution_count": 64,
     "metadata": {},
     "output_type": "execute_result"
    }
   ],
   "source": [
    "change_df[\"Change\"][49]"
   ]
  },
  {
   "cell_type": "code",
   "execution_count": 65,
   "id": "f6e81999",
   "metadata": {},
   "outputs": [
    {
     "data": {
      "text/plain": [
       "22564198"
      ]
     },
     "execution_count": 65,
     "metadata": {},
     "output_type": "execute_result"
    }
   ],
   "source": [
    "#* The net total amount of \"Profit/Losses\" over the entire period\n",
    "net_total = bd_df[\"Profit/Losses\"].sum()\n",
    "net_total"
   ]
  },
  {
   "cell_type": "code",
   "execution_count": 66,
   "id": "69437e74",
   "metadata": {},
   "outputs": [
    {
     "data": {
      "text/plain": [
       "-8214.46511627907"
      ]
     },
     "execution_count": 66,
     "metadata": {},
     "output_type": "execute_result"
    }
   ],
   "source": [
    "#* The changes in \"Profit/Losses\" over the entire period, and then the average of those change\n",
    "avg_change = change_df[\"Change\"].mean()\n",
    "avg_change\n",
    "#not right"
   ]
  },
  {
   "cell_type": "code",
   "execution_count": 67,
   "id": "1881065f",
   "metadata": {},
   "outputs": [
    {
     "data": {
      "text/plain": [
       "1862002"
      ]
     },
     "execution_count": 67,
     "metadata": {},
     "output_type": "execute_result"
    }
   ],
   "source": [
    "#* The greatest increase in profits (date and amount) over the entire period\n",
    "max_increase = change_df[\"Change\"].max()\n",
    "max_increase\n",
    "#not right"
   ]
  },
  {
   "cell_type": "code",
   "execution_count": 68,
   "id": "b41931c3",
   "metadata": {},
   "outputs": [
    {
     "data": {
      "text/plain": [
       "-1825558"
      ]
     },
     "execution_count": 68,
     "metadata": {},
     "output_type": "execute_result"
    }
   ],
   "source": [
    "#* The greatest decrease in profits (date and amount) over the entire period\n",
    "max_decrease = change_df[\"Change\"].min()\n",
    "max_decrease\n",
    "# not right"
   ]
  },
  {
   "cell_type": "code",
   "execution_count": 73,
   "id": "6e3b771d",
   "metadata": {},
   "outputs": [
    {
     "name": "stdout",
     "output_type": "stream",
     "text": [
      "Financial Analysis\n",
      " ----------------------------\n"
     ]
    },
    {
     "ename": "NameError",
     "evalue": "name 'double' is not defined",
     "output_type": "error",
     "traceback": [
      "\u001b[0;31m---------------------------------------------------------------------------\u001b[0m",
      "\u001b[0;31mNameError\u001b[0m                                 Traceback (most recent call last)",
      "\u001b[0;32m/var/folders/84/whf5plpj76n0gfsn98hvs1mr0000gn/T/ipykernel_675/1967696426.py\u001b[0m in \u001b[0;36m<module>\u001b[0;34m\u001b[0m\n\u001b[1;32m     13\u001b[0m \u001b[0mprint\u001b[0m\u001b[0;34m(\u001b[0m \u001b[0;34m\"Financial Analysis\"\u001b[0m \u001b[0;34m)\u001b[0m\u001b[0;34m\u001b[0m\u001b[0;34m\u001b[0m\u001b[0m\n\u001b[1;32m     14\u001b[0m \u001b[0mprint\u001b[0m\u001b[0;34m(\u001b[0m\u001b[0;34m\" ----------------------------\"\u001b[0m \u001b[0;34m)\u001b[0m\u001b[0;34m\u001b[0m\u001b[0;34m\u001b[0m\u001b[0m\n\u001b[0;32m---> 15\u001b[0;31m \u001b[0mprint\u001b[0m\u001b[0;34m(\u001b[0m\u001b[0;34m\"Total Months: \"\u001b[0m \u001b[0;34m+\u001b[0m \u001b[0mstr\u001b[0m\u001b[0;34m(\u001b[0m\u001b[0mdouble\u001b[0m\u001b[0;34m(\u001b[0m\u001b[0mtot_months\u001b[0m\u001b[0;34m)\u001b[0m \u001b[0;34m)\u001b[0m\u001b[0;34m)\u001b[0m\u001b[0;34m\u001b[0m\u001b[0;34m\u001b[0m\u001b[0m\n\u001b[0m\u001b[1;32m     16\u001b[0m \u001b[0mprint\u001b[0m\u001b[0;34m(\u001b[0m\u001b[0;34m\"Total: \"\u001b[0m \u001b[0;34m+\u001b[0m \u001b[0mstr\u001b[0m\u001b[0;34m(\u001b[0m\u001b[0mnet_total\u001b[0m\u001b[0;34m)\u001b[0m \u001b[0;34m)\u001b[0m\u001b[0;34m\u001b[0m\u001b[0;34m\u001b[0m\u001b[0m\n\u001b[1;32m     17\u001b[0m \u001b[0mprint\u001b[0m\u001b[0;34m(\u001b[0m\u001b[0;34m\"Average Change: $\"\u001b[0m \u001b[0;34m+\u001b[0m \u001b[0mstr\u001b[0m\u001b[0;34m(\u001b[0m\u001b[0mavg_change\u001b[0m\u001b[0;34m)\u001b[0m\u001b[0;34m)\u001b[0m\u001b[0;34m\u001b[0m\u001b[0;34m\u001b[0m\u001b[0m\n",
      "\u001b[0;31mNameError\u001b[0m: name 'double' is not defined"
     ]
    }
   ],
   "source": [
    "#Your analysis should look similar to the following:\n",
    "\n",
    "#  ```text\n",
    "#  Financial Analysis\n",
    "#  ----------------------------\n",
    "#  Total Months: 86\n",
    "#  Total: $22564198\n",
    " # Average Change: $-8311.11\n",
    " # Greatest Increase in Profits: Aug-16 ($1862002)\n",
    "#  Greatest Decrease in Profits: Feb-14 ($-1825558)\n",
    "#  ```\n",
    "\n",
    "print( \"Financial Analysis\" )\n",
    "print(\" ----------------------------\" )\n",
    "print(\"Total Months: \" + str(double(tot_months) ))\n",
    "print(\"Total: \" + str(net_total) )\n",
    "print(\"Average Change: $\" + str(avg_change))\n",
    " # Greatest Increase in Profits: Aug-16 ($1862002)\n",
    "#  Greatest Decrease in Profits: Feb-14 ($-1825558)\"\n",
    "\n",
    "#In addition, your final script should both print the analysis to the terminal and export a text file with the results.\n"
   ]
  },
  {
   "cell_type": "code",
   "execution_count": null,
   "id": "c8939269",
   "metadata": {},
   "outputs": [],
   "source": []
  }
 ],
 "metadata": {
  "kernelspec": {
   "display_name": "Python 3 (ipykernel)",
   "language": "python",
   "name": "python3"
  },
  "language_info": {
   "codemirror_mode": {
    "name": "ipython",
    "version": 3
   },
   "file_extension": ".py",
   "mimetype": "text/x-python",
   "name": "python",
   "nbconvert_exporter": "python",
   "pygments_lexer": "ipython3",
   "version": "3.9.13"
  }
 },
 "nbformat": 4,
 "nbformat_minor": 5
}
